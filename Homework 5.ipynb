{
 "cells": [
  {
   "cell_type": "markdown",
   "id": "e37c1077",
   "metadata": {},
   "source": [
    "## Homework\n",
    "\n",
    "Using the Newton-Raphson method, find the solution for  \n",
    "\\begin{eqnarray}\n",
    "x_{1}^2+x_{1}x_{2}=10\\\\\n",
    "x_{2}+3x_{1}x_{2}^2=57\n",
    "\\end{eqnarray}\n",
    "\n",
    "Hint: first you need to derive the partical derivative of the equation arrays. You can do it either \n",
    "analytically by hand or numerically using method we learned in the last lecture."
   ]
  },
  {
   "cell_type": "code",
   "execution_count": 22,
   "id": "19485803",
   "metadata": {},
   "outputs": [
    {
     "name": "stdout",
     "output_type": "stream",
     "text": [
      "2.000000000000006 2.9999999999999907\n",
      "2.4868995751603507e-14 -1.7763568394002505e-13\n",
      "\n",
      "4.393744193289869 -2.1177810147165195\n",
      "-1.7905676941154525e-12 1.4516388091578847e-10\n",
      "\n"
     ]
    }
   ],
   "source": [
    "import numpy as np\n",
    "\n",
    "# The first function\n",
    "def f(x1, x2):\n",
    "    return x1*x1 + x1*x2 - 10\n",
    "\n",
    "# The second function\n",
    "def g(x1, x2):\n",
    "    return x2 + 3*x1*x2*x2 - 57\n",
    "\n",
    "# The derivative of f with respect to x1\n",
    "def dfdx1(x1, x2):\n",
    "    return 2*x1 + x2\n",
    "\n",
    "# The derivative of f with respect to x2\n",
    "def dfdx2(x1, x2):\n",
    "    return x1\n",
    "\n",
    "# The derivative of g with respect to x1\n",
    "def dgdx1(x1, x2):\n",
    "    return 3*x2*x2\n",
    "\n",
    "# The derivative of g with respect to x2\n",
    "def dgdx2(x1, x2):\n",
    "    return 1 + 6*x1*x2\n",
    "\n",
    "# Returns a vector of the functions' outputs.\n",
    "def Function(x):\n",
    "    return np.array([f(x[0], x[1]), g(x[0], x[1])])\n",
    "\n",
    "# Returns the jacobian of the two functions\n",
    "def Jacobian(x):\n",
    "    return np.array([[dfdx1(x[0], x[1]),dfdx2(x[0], x[1])],[dgdx1(x[0],x[1]), dgdx2(x[0],x[1])]])\n",
    "\n",
    "#===========================================================\n",
    "# Parameters:\n",
    "# - x: An initial guess for a vector that satisfies the\n",
    "#      equations\n",
    "# - F: A vector form of the input equations \n",
    "# - J: The jacobian of F\n",
    "# - eps: The desired tolerance for error\n",
    "# - Nmax: The maximum number of times to iterate the Newton\n",
    "#         -Raphson method.\n",
    "# Returns:\n",
    "#   A vector of solutions that satisfy the given equations\n",
    "#===========================================================\n",
    "def dim_2_newton_raphson(x, Function, Jacobian, eps, Nmax):\n",
    "    \n",
    "    iter_num = 0\n",
    "    while np.linalg.norm(Function(x)) > eps and iter_num < Nmax:\n",
    "        f = Function(x)\n",
    "        j = Jacobian(x)\n",
    "        jacobian_determinant = (j[0,0]*j[1,1] - j[0,1]*j[1,0])\n",
    "        dx1 = (j[0,1]*f[1] - j[1,1]*f[0]) / jacobian_determinant\n",
    "        dx2 = (j[1,0]*f[0] - j[0,0]*f[1]) / jacobian_determinant\n",
    "        x += np.array([dx1, dx2])\n",
    "        iter_num += 1\n",
    "    \n",
    "    if iter_num >= Nmax:\n",
    "        print(\"Did not converge after {} iterations\".format(Nmax))\n",
    "    \n",
    "    return x   \n",
    "\n",
    "\n",
    "xi = np.array([1, 1.])\n",
    "x1, x2 = dim_2_newton_raphson(xi, Function, Jacobian, 1e-8, 100)\n",
    "print(x1, x2)\n",
    "print(f(x1,x2), g(x1,x2))\n",
    "print()\n",
    "xi = np.array([-1, -1.])\n",
    "x1, x2 = dim_2_newton_raphson(xi, Function, Jacobian, 1e-8, 100)\n",
    "print(x1, x2)\n",
    "print(f(x1,x2), g(x1,x2))\n",
    "print()"
   ]
  },
  {
   "cell_type": "markdown",
   "id": "020d17b9",
   "metadata": {},
   "source": [
    "# Results\n",
    "\n",
    "Running through a few different starting locations I found the roots (2,3) and [approximately] (4.394,-2.118). Because these equations are quadratic in both variables, they should have exactly two solutions."
   ]
  },
  {
   "cell_type": "code",
   "execution_count": null,
   "id": "5edf64cf",
   "metadata": {},
   "outputs": [],
   "source": []
  }
 ],
 "metadata": {
  "kernelspec": {
   "display_name": "Python 3 (ipykernel)",
   "language": "python",
   "name": "python3"
  },
  "language_info": {
   "codemirror_mode": {
    "name": "ipython",
    "version": 3
   },
   "file_extension": ".py",
   "mimetype": "text/x-python",
   "name": "python",
   "nbconvert_exporter": "python",
   "pygments_lexer": "ipython3",
   "version": "3.11.1"
  }
 },
 "nbformat": 4,
 "nbformat_minor": 5
}
