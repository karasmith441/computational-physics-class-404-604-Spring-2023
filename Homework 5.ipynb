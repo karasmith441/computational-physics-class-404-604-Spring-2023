{
 "cells": [
  {
   "cell_type": "markdown",
   "id": "e37c1077",
   "metadata": {},
   "source": [
    "## Homework\n",
    "\n",
    "Using the Newton-Raphson method, find the solution for  \n",
    "\\begin{eqnarray}\n",
    "x_{1}^2+x_{1}x_{2}=10\\\\\n",
    "x_{2}+3x_{1}x_{2}^2=57\n",
    "\\end{eqnarray}\n",
    "\n",
    "Hint: first you need to derive the partical derivative of the equation arrays. You can do it either \n",
    "analytically by hand or numerically using method we learned in the last lecture."
   ]
  },
  {
   "cell_type": "code",
   "execution_count": 13,
   "id": "19485803",
   "metadata": {},
   "outputs": [
    {
     "name": "stdout",
     "output_type": "stream",
     "text": [
      "1.9999999999593756 3.000000000037353\n",
      "-2.0966517411125096e-10 2.851905378520314e-10\n"
     ]
    }
   ],
   "source": [
    "import numpy as np\n",
    "\n",
    "def f(x1, x2):\n",
    "    return x1*x1 + x1*x2 - 10\n",
    "\n",
    "def g(x1, x2):\n",
    "    return x2 + 3*x1*x2*x2 - 57\n",
    "\n",
    "def dfdx1(x1, x2):\n",
    "    return 2*x1 + x2\n",
    "\n",
    "def dfdx2(x1, x2):\n",
    "    return x1\n",
    "\n",
    "def dgdx1(x1, x2):\n",
    "    return 3*x2*x2\n",
    "\n",
    "def dgdx2(x1, x2):\n",
    "    return 1 + 6*x1*x2\n",
    "\n",
    "def F(x):\n",
    "    return np.array([f(x[0], x[1]), g(x[0], x[1])])\n",
    "\n",
    "def J(x):\n",
    "    return np.array([[dfdx1(x[0], x[1]),dfdx2(x[0], x[1])],[dgdx1(x[0],x[1]), dgdx2(x[0],x[1])]])\n",
    "\n",
    "def dim_2_newton_raphson(x, F, J, eps, Nmax):\n",
    "    \n",
    "    iter_num = 0\n",
    "    while np.linalg.norm(F(x)) > eps and iter_num < Nmax:\n",
    "        j = J(x)\n",
    "        f = F(x)\n",
    "        det = (j[0,0]*j[1,1] - j[0,1]*j[1,0])\n",
    "        dx1 = (j[0,1]*f[1] - j[1,1]*f[0]) / det\n",
    "        dx2 = (j[1,0]*f[0] - j[0,0]*f[1]) / det\n",
    "        x += [dx1, dx2]\n",
    "        iter_num += 1\n",
    "    \n",
    "    if iter_num >= Nmax:\n",
    "        print(\"Did not converge after {} iterations\".format(Nmax))\n",
    "    \n",
    "    return x   \n",
    "\n",
    "xi = np.array([1., 6.])\n",
    "x1, x2 = dim_2_newton_raphson(xi, F, J, 1e-8, 100)\n",
    "\n",
    "print(x1, x2)\n",
    "print(f(x1,x2), g(x1,x2))"
   ]
  },
  {
   "cell_type": "code",
   "execution_count": null,
   "id": "f03dc837",
   "metadata": {},
   "outputs": [],
   "source": []
  },
  {
   "cell_type": "code",
   "execution_count": null,
   "id": "390705c1",
   "metadata": {},
   "outputs": [],
   "source": []
  }
 ],
 "metadata": {
  "kernelspec": {
   "display_name": "Python 3 (ipykernel)",
   "language": "python",
   "name": "python3"
  },
  "language_info": {
   "codemirror_mode": {
    "name": "ipython",
    "version": 3
   },
   "file_extension": ".py",
   "mimetype": "text/x-python",
   "name": "python",
   "nbconvert_exporter": "python",
   "pygments_lexer": "ipython3",
   "version": "3.11.1"
  }
 },
 "nbformat": 4,
 "nbformat_minor": 5
}
