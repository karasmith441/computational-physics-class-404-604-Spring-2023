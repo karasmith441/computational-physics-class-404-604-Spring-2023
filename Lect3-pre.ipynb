{
 "cells": [
  {
   "cell_type": "markdown",
   "metadata": {},
   "source": [
    "# Physics 404/604\n",
    "\n",
    "## Computational Physics (Spring 2020)\n",
    "\n",
    "## BPB-250\n",
    "\n",
    "| Instructor | Prof. Zhaohuan Zhu                 |\n",
    "| ---------- | :--------------------------------- |\n",
    "| Email      | zhaohuan.zhu@unlv.edu              |\n",
    "| Website    | http://www.physics.unlv.edu/~zhzhu |\n",
    "| Office     | BPB 245                            |\n",
    "\n",
    "\n",
    "\n",
    "\n",
    "\n",
    "\n"
   ]
  },
  {
   "cell_type": "markdown",
   "metadata": {},
   "source": [
    "\n",
    "# 1. Programing Style: Efficient Algorithm\n",
    "\n",
    "\n",
    "## 1.1 Programming guide\n",
    "* Give the correct answers\n",
    "* clear and easy to read (including documenting itself)\n",
    "* easy to use\n",
    "* built up out of small programs that can be tested individually easy to modify and robust  \n",
    "* Try to use efficient algorithm\n",
    "\n",
    "\n"
   ]
  },
  {
   "cell_type": "markdown",
   "metadata": {},
   "source": [
    "## 1.2 Efficient ways to calculate Fibonacci numbers\n",
    "\n",
    "Fibonacci number\n",
    "The number series: 0, 1, 1, 2, 3, 5, 8, 13, 21, 34, … \n",
    "\\begin{equation}\n",
    "F_{n}=F_{n-1}+F_{n-2}\n",
    "\\end{equation}\n",
    "What is $F_{n}$?\n"
   ]
  },
  {
   "cell_type": "markdown",
   "metadata": {},
   "source": [
    "**Dynamic Programming:  \n",
    "An algorithmic paradigm that solves a complex problem by breaking it into subproblems and stores the results of subproblems to avoid computing the same results again.**\n",
    "\n",
    "## 1.3.1 Recursion method:\n",
    "\n",
    "Recursion in computer science is a method of solving a problem where the solution depends on solutions to smaller instances of the same problem.\n",
    "\n",
    "Most computer programming languages support recursion by allowing a function to call itself from within its own code. "
   ]
  },
  {
   "cell_type": "code",
   "execution_count": 1,
   "metadata": {},
   "outputs": [],
   "source": [
    "# Recursion method fib2, \n",
    "def fib2(n):      # extremely simple, but exponentially running time, very slow for large n, n cannot too large (stack limit)\n",
    "    if n == 0: return 0\n",
    "    elif n == 1: return 1\n",
    "    else: return fib2(n-1)+fib2(n-2)"
   ]
  },
  {
   "cell_type": "code",
   "execution_count": 2,
   "metadata": {},
   "outputs": [
    {
     "name": "stdout",
     "output_type": "stream",
     "text": [
      "102334155\n",
      "--- 34.148640155792236 seconds ---\n"
     ]
    }
   ],
   "source": [
    "import time\n",
    "start_time = time.time()\n",
    "print(fib2(40))\n",
    "print(\"--- %s seconds ---\" % (time.time() - start_time))"
   ]
  },
  {
   "cell_type": "markdown",
   "metadata": {},
   "source": [
    "## 1.3.2 Memoization method (Top down):\n",
    "\n",
    "an optimization technique used primarily to speed up computer programs by storing the results of expensive function calls and returning the cached result when the same inputs occur again.\n",
    "\n",
    "turning [the results of] a function into something to be remembered"
   ]
  },
  {
   "cell_type": "code",
   "execution_count": 3,
   "metadata": {},
   "outputs": [],
   "source": [
    "# if we have defined an array table = [None]*(n+1)\n",
    "\n",
    "def fib3(n, table): # Store the data we already calculated, linear space and time complexity, but still have the stack limit\n",
    "    if n == 0 or n==1:\n",
    "        table[n] = n\n",
    "    \n",
    "    # if the value has not been calculated, calculate it \n",
    "    if table[n] is None:\n",
    "        table[n] = fib3(n-1, table) + fib3(n-2, table) # try this:  please finish this line using recursive method\n",
    "        \n",
    "    return table[n]"
   ]
  },
  {
   "cell_type": "code",
   "execution_count": 4,
   "metadata": {},
   "outputs": [
    {
     "name": "stdout",
     "output_type": "stream",
     "text": [
      "102334155\n",
      "--- 0.0 seconds ---\n",
      "17108476902340227241249719513231821477382749898026920041550883749834348017250935801359315038923367841494936038231522506358371361016671790887791259870264957823133253627917432203111969704623229384763490617075388642696139893354058660570399927047816296952516330636633851111646387885472698683607925\n",
      "--- 0.0 seconds ---\n"
     ]
    },
    {
     "ename": "RecursionError",
     "evalue": "maximum recursion depth exceeded",
     "output_type": "error",
     "traceback": [
      "\u001b[1;31m---------------------------------------------------------------------------\u001b[0m",
      "\u001b[1;31mRecursionError\u001b[0m                            Traceback (most recent call last)",
      "Cell \u001b[1;32mIn[4], line 15\u001b[0m\n\u001b[0;32m     13\u001b[0m fib_wrapper(\u001b[38;5;241m40\u001b[39m)\n\u001b[0;32m     14\u001b[0m fib_wrapper(\u001b[38;5;241m1400\u001b[39m)\n\u001b[1;32m---> 15\u001b[0m \u001b[43mfib_wrapper\u001b[49m\u001b[43m(\u001b[49m\u001b[38;5;241;43m14000\u001b[39;49m\u001b[43m)\u001b[49m\n\u001b[0;32m     17\u001b[0m \u001b[38;5;66;03m# In programming, the call stack is a buffer that stores requests that need to be handled.\u001b[39;00m\n",
      "Cell \u001b[1;32mIn[4], line 8\u001b[0m, in \u001b[0;36mfib_wrapper\u001b[1;34m(n)\u001b[0m\n\u001b[0;32m      6\u001b[0m table \u001b[38;5;241m=\u001b[39m [\u001b[38;5;28;01mNone\u001b[39;00m]\u001b[38;5;241m*\u001b[39m(n\u001b[38;5;241m+\u001b[39m\u001b[38;5;241m1\u001b[39m)\n\u001b[0;32m      7\u001b[0m start_time \u001b[38;5;241m=\u001b[39m time\u001b[38;5;241m.\u001b[39mtime()\n\u001b[1;32m----> 8\u001b[0m \u001b[38;5;28mprint\u001b[39m(\u001b[43mfib3\u001b[49m\u001b[43m(\u001b[49m\u001b[43mn\u001b[49m\u001b[43m,\u001b[49m\u001b[43m \u001b[49m\u001b[43mtable\u001b[49m\u001b[43m)\u001b[49m)\n\u001b[0;32m      9\u001b[0m \u001b[38;5;28mprint\u001b[39m(\u001b[38;5;124m\"\u001b[39m\u001b[38;5;124m--- \u001b[39m\u001b[38;5;132;01m%s\u001b[39;00m\u001b[38;5;124m seconds ---\u001b[39m\u001b[38;5;124m\"\u001b[39m \u001b[38;5;241m%\u001b[39m (time\u001b[38;5;241m.\u001b[39mtime() \u001b[38;5;241m-\u001b[39m start_time))\n",
      "Cell \u001b[1;32mIn[3], line 9\u001b[0m, in \u001b[0;36mfib3\u001b[1;34m(n, table)\u001b[0m\n\u001b[0;32m      7\u001b[0m \u001b[38;5;66;03m# if the value has not been calculated, calculate it \u001b[39;00m\n\u001b[0;32m      8\u001b[0m \u001b[38;5;28;01mif\u001b[39;00m table[n] \u001b[38;5;129;01mis\u001b[39;00m \u001b[38;5;28;01mNone\u001b[39;00m:\n\u001b[1;32m----> 9\u001b[0m     table[n] \u001b[38;5;241m=\u001b[39m \u001b[43mfib3\u001b[49m\u001b[43m(\u001b[49m\u001b[43mn\u001b[49m\u001b[38;5;241;43m-\u001b[39;49m\u001b[38;5;241;43m1\u001b[39;49m\u001b[43m,\u001b[49m\u001b[43m \u001b[49m\u001b[43mtable\u001b[49m\u001b[43m)\u001b[49m \u001b[38;5;241m+\u001b[39m fib3(n\u001b[38;5;241m-\u001b[39m\u001b[38;5;241m2\u001b[39m, table) \u001b[38;5;66;03m# try this:  please finish this line using recursive method\u001b[39;00m\n\u001b[0;32m     11\u001b[0m \u001b[38;5;28;01mreturn\u001b[39;00m table[n]\n",
      "Cell \u001b[1;32mIn[3], line 9\u001b[0m, in \u001b[0;36mfib3\u001b[1;34m(n, table)\u001b[0m\n\u001b[0;32m      7\u001b[0m \u001b[38;5;66;03m# if the value has not been calculated, calculate it \u001b[39;00m\n\u001b[0;32m      8\u001b[0m \u001b[38;5;28;01mif\u001b[39;00m table[n] \u001b[38;5;129;01mis\u001b[39;00m \u001b[38;5;28;01mNone\u001b[39;00m:\n\u001b[1;32m----> 9\u001b[0m     table[n] \u001b[38;5;241m=\u001b[39m \u001b[43mfib3\u001b[49m\u001b[43m(\u001b[49m\u001b[43mn\u001b[49m\u001b[38;5;241;43m-\u001b[39;49m\u001b[38;5;241;43m1\u001b[39;49m\u001b[43m,\u001b[49m\u001b[43m \u001b[49m\u001b[43mtable\u001b[49m\u001b[43m)\u001b[49m \u001b[38;5;241m+\u001b[39m fib3(n\u001b[38;5;241m-\u001b[39m\u001b[38;5;241m2\u001b[39m, table) \u001b[38;5;66;03m# try this:  please finish this line using recursive method\u001b[39;00m\n\u001b[0;32m     11\u001b[0m \u001b[38;5;28;01mreturn\u001b[39;00m table[n]\n",
      "    \u001b[1;31m[... skipping similar frames: fib3 at line 9 (2970 times)]\u001b[0m\n",
      "Cell \u001b[1;32mIn[3], line 9\u001b[0m, in \u001b[0;36mfib3\u001b[1;34m(n, table)\u001b[0m\n\u001b[0;32m      7\u001b[0m \u001b[38;5;66;03m# if the value has not been calculated, calculate it \u001b[39;00m\n\u001b[0;32m      8\u001b[0m \u001b[38;5;28;01mif\u001b[39;00m table[n] \u001b[38;5;129;01mis\u001b[39;00m \u001b[38;5;28;01mNone\u001b[39;00m:\n\u001b[1;32m----> 9\u001b[0m     table[n] \u001b[38;5;241m=\u001b[39m \u001b[43mfib3\u001b[49m\u001b[43m(\u001b[49m\u001b[43mn\u001b[49m\u001b[38;5;241;43m-\u001b[39;49m\u001b[38;5;241;43m1\u001b[39;49m\u001b[43m,\u001b[49m\u001b[43m \u001b[49m\u001b[43mtable\u001b[49m\u001b[43m)\u001b[49m \u001b[38;5;241m+\u001b[39m fib3(n\u001b[38;5;241m-\u001b[39m\u001b[38;5;241m2\u001b[39m, table) \u001b[38;5;66;03m# try this:  please finish this line using recursive method\u001b[39;00m\n\u001b[0;32m     11\u001b[0m \u001b[38;5;28;01mreturn\u001b[39;00m table[n]\n",
      "\u001b[1;31mRecursionError\u001b[0m: maximum recursion depth exceeded"
     ]
    }
   ],
   "source": [
    "# calclate time with n=10\n",
    "\n",
    "import time\n",
    "\n",
    "def fib_wrapper(n):\n",
    "    table = [None]*(n+1)\n",
    "    start_time = time.time()\n",
    "    print(fib3(n, table))\n",
    "    print(\"--- %s seconds ---\" % (time.time() - start_time))\n",
    "\n",
    "# try this: Please calculate time if n=40, 1400, 14000\n",
    "\n",
    "fib_wrapper(40)\n",
    "fib_wrapper(1400)\n",
    "fib_wrapper(14000)\n",
    "\n",
    "# In programming, the call stack is a buffer that stores requests that need to be handled."
   ]
  },
  {
   "cell_type": "markdown",
   "metadata": {},
   "source": [
    "## 1.3.2  Tabulation Method (bottom-up)\n",
    "Calculate all the values from small to big"
   ]
  },
  {
   "cell_type": "code",
   "execution_count": 5,
   "metadata": {},
   "outputs": [],
   "source": [
    "# calculate numbers one by one from table[2] to table[n]\n",
    "\n",
    "def fib4(n):\n",
    "    table = [0]*(n+1)\n",
    "    table[1] = 1\n",
    "    \n",
    "    for i in range(2, n+1):\n",
    "        table[i] = table[i-1] + table[i-2]\n",
    "        \n",
    "    return table[n]"
   ]
  },
  {
   "cell_type": "code",
   "execution_count": 6,
   "metadata": {},
   "outputs": [
    {
     "name": "stdout",
     "output_type": "stream",
     "text": [
      "102334155\n",
      "--- 0.0 seconds ---\n",
      "17108476902340227241249719513231821477382749898026920041550883749834348017250935801359315038923367841494936038231522506358371361016671790887791259870264957823133253627917432203111969704623229384763490617075388642696139893354058660570399927047816296952516330636633851111646387885472698683607925\n",
      "--- 0.0 seconds ---\n",
      "3002468761178461090995494179715025648692747937490792943468375429502230242942284835863402333575216217865811638730389352239181342307756720414619391217798542575996541081060501905302157019002614964717310808809478675602711440361241500732699145834377856326394037071666274321657305320804055307021019793251762830816701587386994888032362232198219843549865275880699612359275125243457132496772854886508703396643365042454333009802006384286859581649296390803003232654898464561589234445139863242606285711591746222880807391057211912655818499798720987302540712067959840802106849776547522247429904618357394771725653253559346195282601285019169360207355179223814857106405285007997547692546378757062999581657867188420995770650565521377874333085963123444258953052751461206977615079511435862879678439081175536265576977106865074099512897235100538241196445815568291377846656352979228098911566675956525644182645608178603837172227838896725425605719942300037650526231486881066037397866942013838296769284745527778439272995067231492069369130289154753132313883294398593507873555667211005422003204156154859031529462152953119957597195735953686798871131148255050140450845034240095305094449911578598539658855704158240221809528010179414493499583473568873253067921639513996596738275817909624857593693291980841303291145613566466575233283651420134915764961372875933822262953420444548349180436583183291944875599477240814774580187144637965487250578134990402443365677985388481961492444981994523034245619781853365476552719460960795929666883665704293897310201276011658074359194189359660792496027472226428571547971602259808697441435358578480589837766911684200275636889192254762678512597000452676191374475932796663842865744658264924913771676415404179920096074751516422872997665425047457428327276230059296132722787915300105002019006293320082955378715908263653377755031155794063450515731009402407584683132870206376994025920790298591144213659942668622062191441346200098342943955169522532574271644954360217472458521489671859465232568419404182043966092211744372699797375966048010775453444600153524772238401414789562651410289808994960533132759532092895779406940925252906166612153699850759933762897947175972147868784008320247586210378556711332739463277940255289047962323306946068381887446046387745247925675240182981190836264964640612069909458682443392729946084099312047752966806439331403663934969942958022237945205992581178803606156982034385347182766573351768749665172549908638337611953199808161937885366709285043276595726484068138091188914698151703122773726725261370542355162118164302728812259192476428938730724109825922331973256105091200551566581350508061922762910078528219869913214146575557249199263634241165352226570749618907050553115468306669184485910269806225894530809823102279231750061652042560772530576713148647858705369649642907780603247428680176236527220826640665659902650188140474762163503557640566711903907798932853656216227739411210513756695569391593763704981001125\n",
      "--- 0.010892152786254883 seconds ---\n"
     ]
    }
   ],
   "source": [
    "import time\n",
    "start_time = time.time()\n",
    "print(fib4(40))\n",
    "print(\"--- %s seconds ---\" % (time.time() - start_time))\n",
    "start_time = time.time()\n",
    "print(fib4(1400))\n",
    "print(\"--- %s seconds ---\" % (time.time() - start_time))\n",
    "start_time = time.time()\n",
    "print(fib4(14000)) \n",
    "print(\"--- %s seconds ---\" % (time.time() - start_time))"
   ]
  },
  {
   "cell_type": "markdown",
   "metadata": {},
   "source": [
    "## 1.3.3 Using Matrix Algebra (Optional)\n",
    "\n",
    "$$\\left[\\begin{array}\n",
    "{rr}\n",
    "1 & 1 \\\\\n",
    "1 & 0 \\\\\n",
    "\\end{array}\\right]^n=\\left[\\begin{array}\n",
    "{rr}\n",
    "F(n+1) & F(n) \\\\\n",
    "F(n) & F(n-1) \\\\\n",
    "\\end{array}\\right]\n",
    "$$\n",
    "\n",
    "To calculate F(100), need $A^{100}$ -> $(A^{50})^2$->$A^{25}$->$A^{12}$->$A^6$->$A^3$->$A^1$"
   ]
  },
  {
   "cell_type": "code",
   "execution_count": 7,
   "metadata": {},
   "outputs": [],
   "source": [
    "def arrpow(arr, n):\n",
    "    yarr=arr\n",
    "    if n<1:\n",
    "        print('n needs to be larger than 1')\n",
    "    if n==1:\n",
    "        return arr\n",
    "    yarr = arrpow(arr, n//2)\n",
    "    yarr = [[yarr[0][0]*yarr[0][0]+yarr[0][1]*yarr[1][0],yarr[0][0]*yarr[0][1]+yarr[0][1]*yarr[1][1]],\n",
    "            [yarr[1][0]*yarr[0][0]+yarr[1][1]*yarr[1][0],yarr[1][0]*yarr[0][1]+yarr[1][1]*yarr[1][1]]]\n",
    "    if n%2:\n",
    "        yarr=[[yarr[0][0]*arr[0][0]+yarr[0][1]*arr[1][0],yarr[0][0]*arr[0][1]+yarr[0][1]*arr[1][1]],\n",
    "            [yarr[1][0]*arr[0][0]+yarr[1][1]*arr[1][0],yarr[1][0]*arr[0][1]+yarr[1][1]*arr[1][1]]]\n",
    "    return yarr\n",
    "\n",
    "def fib5(n):\n",
    "    arr= [[1,1],[1,0]]\n",
    "    f=arrpow(arr,n-1)[0][0]\n",
    "    return f\n",
    "    \n",
    "\n"
   ]
  },
  {
   "cell_type": "code",
   "execution_count": 8,
   "metadata": {
    "scrolled": true
   },
   "outputs": [
    {
     "name": "stdout",
     "output_type": "stream",
     "text": [
      "102334155\n",
      "--- 0.0 seconds ---\n",
      "3002468761178461090995494179715025648692747937490792943468375429502230242942284835863402333575216217865811638730389352239181342307756720414619391217798542575996541081060501905302157019002614964717310808809478675602711440361241500732699145834377856326394037071666274321657305320804055307021019793251762830816701587386994888032362232198219843549865275880699612359275125243457132496772854886508703396643365042454333009802006384286859581649296390803003232654898464561589234445139863242606285711591746222880807391057211912655818499798720987302540712067959840802106849776547522247429904618357394771725653253559346195282601285019169360207355179223814857106405285007997547692546378757062999581657867188420995770650565521377874333085963123444258953052751461206977615079511435862879678439081175536265576977106865074099512897235100538241196445815568291377846656352979228098911566675956525644182645608178603837172227838896725425605719942300037650526231486881066037397866942013838296769284745527778439272995067231492069369130289154753132313883294398593507873555667211005422003204156154859031529462152953119957597195735953686798871131148255050140450845034240095305094449911578598539658855704158240221809528010179414493499583473568873253067921639513996596738275817909624857593693291980841303291145613566466575233283651420134915764961372875933822262953420444548349180436583183291944875599477240814774580187144637965487250578134990402443365677985388481961492444981994523034245619781853365476552719460960795929666883665704293897310201276011658074359194189359660792496027472226428571547971602259808697441435358578480589837766911684200275636889192254762678512597000452676191374475932796663842865744658264924913771676415404179920096074751516422872997665425047457428327276230059296132722787915300105002019006293320082955378715908263653377755031155794063450515731009402407584683132870206376994025920790298591144213659942668622062191441346200098342943955169522532574271644954360217472458521489671859465232568419404182043966092211744372699797375966048010775453444600153524772238401414789562651410289808994960533132759532092895779406940925252906166612153699850759933762897947175972147868784008320247586210378556711332739463277940255289047962323306946068381887446046387745247925675240182981190836264964640612069909458682443392729946084099312047752966806439331403663934969942958022237945205992581178803606156982034385347182766573351768749665172549908638337611953199808161937885366709285043276595726484068138091188914698151703122773726725261370542355162118164302728812259192476428938730724109825922331973256105091200551566581350508061922762910078528219869913214146575557249199263634241165352226570749618907050553115468306669184485910269806225894530809823102279231750061652042560772530576713148647858705369649642907780603247428680176236527220826640665659902650188140474762163503557640566711903907798932853656216227739411210513756695569391593763704981001125\n",
      "--- 0.0019488334655761719 seconds ---\n"
     ]
    }
   ],
   "source": [
    "import time\n",
    "start_time = time.time()\n",
    "print(fib5(40))\n",
    "print(\"--- %s seconds ---\" % (time.time() - start_time))\n",
    "import time\n",
    "start_time = time.time()\n",
    "print(fib5(14000)) # 93 overflow\n",
    "print(\"--- %s seconds ---\" % (time.time() - start_time))"
   ]
  },
  {
   "cell_type": "markdown",
   "metadata": {},
   "source": [
    "# 2. the complexity of the algorithms\n",
    "\n",
    "Algorithm complexity is a measure which evaluates the order of the count of operations, performed by a given or algorithm as a function of the size of the input data. To put this simpler, complexity is a rough approximation of the number of steps necessary to execute an algorithm. When we evaluate complexity we speak of order of operation count, not of their exact count. \n",
    "\n",
    "For example if we have an order of $N^2$ operations to process N elements, then $N^2$/2 and 3*$N^2$ are of one and the same quadratic order.\n",
    "\n",
    "Algorithm complexity is commonly represented with the O(f) notation e.g. O($N^2$). We can measure the algorithm complexity by plotting n vs. steps, or n vs. execution time."
   ]
  },
  {
   "cell_type": "code",
   "execution_count": 9,
   "metadata": {},
   "outputs": [
    {
     "name": "stdout",
     "output_type": "stream",
     "text": [
      "1 0.0\n",
      "4 0.0\n",
      "7 0.0\n",
      "10 0.0\n",
      "13 0.0\n",
      "16 0.0076024532318115234\n",
      "19 0.0\n",
      "22 0.016247987747192383\n",
      "25 0.06489992141723633\n",
      "28 0.2656099796295166\n",
      "31 1.1029713153839111\n",
      "34 5.612988233566284\n",
      "37 28.759676218032837\n",
      "40 124.94489407539368\n"
     ]
    }
   ],
   "source": [
    "import numpy as np\n",
    "n2=np.arange(1,41,3)\n",
    "time2=np.zeros(n2.size)\n",
    "for i in range(n2.size):\n",
    "    start_time = time.time()\n",
    "    temp=fib2(n2[i])\n",
    "    time2[i] = time.time()-start_time\n",
    "    print(n2[i],time2[i])\n"
   ]
  },
  {
   "cell_type": "code",
   "execution_count": 11,
   "metadata": {},
   "outputs": [
    {
     "name": "stderr",
     "output_type": "stream",
     "text": [
      "C:\\Users\\Owner\\AppData\\Local\\Temp\\ipykernel_43648\\3849582934.py:5: RuntimeWarning: divide by zero encountered in log10\n",
      "  plt.plot(n2, np.log10(time2))\n"
     ]
    },
    {
     "data": {
      "text/plain": [
       "[<matplotlib.lines.Line2D at 0x23c62cd5cd0>]"
      ]
     },
     "execution_count": 11,
     "metadata": {},
     "output_type": "execute_result"
    },
    {
     "data": {
      "image/png": "[encoded data removed]",
      "text/plain": [
       "<Figure size 640x480 with 1 Axes>"
      ]
     },
     "metadata": {},
     "output_type": "display_data"
    }
   ],
   "source": [
    "import matplotlib.pyplot as plt\n",
    "import math\n",
    "\n",
    "# please make a plot of n2 vs np.log10(time2) and think about how this plot shows that the complexity of fib2 is O(2^N)\n",
    "plt.plot(n2, np.log10(time2))\n"
   ]
  },
  {
   "cell_type": "code",
   "execution_count": null,
   "metadata": {},
   "outputs": [],
   "source": [
    "# try this: following the above example to calculate the time when n=n2[0], n2[1]...., and make a plot for log10(time) vs n\n",
    "# for fib4\n",
    "\n",
    "n2=np.arange(100,100000,100)\n",
    "time2=np.zeros(n2.size)\n",
    "\n",
    "for i in range(n2.size):\n",
    "    \n",
    "    print(n2[i],time2[i])\n"
   ]
  },
  {
   "cell_type": "code",
   "execution_count": null,
   "metadata": {
    "scrolled": true
   },
   "outputs": [],
   "source": [
    "import matplotlib.pyplot as plt\n",
    "import math\n",
    "plt.plot(np.log10(n2),np.log10(time2))\n",
    "plt.xlabel('log10(n)')\n",
    "plt.ylabel('log10(time)')\n",
    "plt.show()"
   ]
  },
  {
   "cell_type": "markdown",
   "metadata": {},
   "source": [
    "# Homework\n",
    "\n",
    "1) Calculate and plot the ratio F(n)/F(n-1) with respect to n using memorization method. \n",
    "\n",
    "2) \n",
    "\n",
    "    a) Use the Recursion method, Tabulation method,  and matrix method to calculate the time spent for different n (e.g. 1, 10, 100, 1000, 10000, … uniform in the log space). (caution: recursion method will break when n>100)\n",
    "\n",
    "    b) For each method, output the time and n into a file\n",
    "       \n",
    "    c) Read from the file and plot log(time) (y-axis) vs. log(n) (x-axis) for different methods. \n",
    "       \n",
    "    d) Discuss the complexity of each method.\n"
   ]
  },
  {
   "cell_type": "code",
   "execution_count": null,
   "metadata": {},
   "outputs": [],
   "source": []
  }
 ],
 "metadata": {
  "kernelspec": {
   "display_name": "Python 3 (ipykernel)",
   "language": "python",
   "name": "python3"
  },
  "language_info": {
   "codemirror_mode": {
    "name": "ipython",
    "version": 3
   },
   "file_extension": ".py",
   "mimetype": "text/x-python",
   "name": "python",
   "nbconvert_exporter": "python",
   "pygments_lexer": "ipython3",
   "version": "3.11.1"
  }
 },
 "nbformat": 4,
 "nbformat_minor": 2
}
